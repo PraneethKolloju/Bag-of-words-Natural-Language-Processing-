{
  "nbformat": 4,
  "nbformat_minor": 0,
  "metadata": {
    "colab": {
      "name": "bag of words.ipynb",
      "provenance": []
    },
    "kernelspec": {
      "name": "python3",
      "display_name": "Python 3"
    },
    "language_info": {
      "name": "python"
    }
  },
  "cells": [
    {
      "cell_type": "code",
      "metadata": {
        "id": "PW9Eo6aKG2kc"
      },
      "source": [
        "import numpy as np\n",
        "import pandas as pd\n",
        "import matplotlib.pyplot as plt\n"
      ],
      "execution_count": null,
      "outputs": []
    },
    {
      "cell_type": "code",
      "metadata": {
        "id": "gpS3o5yoJXq_"
      },
      "source": [
        "df=pd.read_csv('labeledTrainData.tsv',delimiter='\\t',quoting=3)\n",
        "df1=pd.read_csv('testData.tsv',delimiter='\\t',quoting=3)"
      ],
      "execution_count": null,
      "outputs": []
    },
    {
      "cell_type": "code",
      "metadata": {
        "id": "vmribBdnJptc"
      },
      "source": [
        "x=df.iloc[:,2].values\n",
        "y=df.iloc[:,1].values\n",
        "z=df1.iloc[:,1].values"
      ],
      "execution_count": null,
      "outputs": []
    },
    {
      "cell_type": "code",
      "metadata": {
        "colab": {
          "base_uri": "https://localhost:8080/"
        },
        "id": "EOD8b7ICJ0wG",
        "outputId": "9f45264d-8ca5-4541-a118-8232e20a2f50"
      },
      "source": [
        "import re\n",
        "import nltk\n",
        "nltk.download('stopwords')\n",
        "from nltk.corpus import stopwords\n",
        "from nltk.stem.porter import PorterStemmer\n",
        "simplified=[]\n",
        "for i in range(0,len(df)):\n",
        "  review=re.sub('[^a-zA-Z]',' ',df['review'][i])\n",
        "  review=review.lower()\n",
        "  review=review.split()\n",
        "  allstopwords=stopwords.words('english')\n",
        "  allstopwords.remove('not')\n",
        "  ps=PorterStemmer()\n",
        "  review=[ps.stem(word) for word in review if not word in set(allstopwords)]\n",
        "  review=' '.join(review)\n",
        "  simplified.append(review)"
      ],
      "execution_count": null,
      "outputs": [
        {
          "output_type": "stream",
          "text": [
            "[nltk_data] Downloading package stopwords to /root/nltk_data...\n",
            "[nltk_data]   Package stopwords is already up-to-date!\n"
          ],
          "name": "stdout"
        }
      ]
    },
    {
      "cell_type": "code",
      "metadata": {
        "id": "xH4KVmAERDBw"
      },
      "source": [
        "testsimplified=[]\n",
        "for i in range(0,len(df1)):\n",
        "  r=re.sub('[^a-zA-Z]',' ',df1['review'][i])\n",
        "  r=r.lower()\n",
        "  r=r.split()\n",
        "  allstop=stopwords.words('english')\n",
        "  allstop.remove('not')\n",
        "  ps1=PorterStemmer()\n",
        "  r=[ps.stem(word) for word in r if not word in set(allstop)]\n",
        "  r=' '.join(r)\n",
        "  testsimplified.append(r)"
      ],
      "execution_count": null,
      "outputs": []
    },
    {
      "cell_type": "code",
      "metadata": {
        "id": "85fFo78mJ1dt"
      },
      "source": [
        "from sklearn.feature_extraction.text import CountVectorizer\n",
        "cv=CountVectorizer()\n",
        "x=cv.fit_transform(simplified).toarray()"
      ],
      "execution_count": null,
      "outputs": []
    },
    {
      "cell_type": "code",
      "metadata": {
        "id": "2HGxY6WWTsxo"
      },
      "source": [
        "from sklearn.feature_extraction.text import CountVectorizer\n",
        "cv=CountVectorizer()\n",
        "testing=cv.fit_transform(testsimplified).toarray"
      ],
      "execution_count": null,
      "outputs": []
    },
    {
      "cell_type": "code",
      "metadata": {
        "id": "WQ7Dq9FTM8oU"
      },
      "source": [
        "from sklearn.ensemble import RandomForestClassifier\n",
        "rfc=RandomForestClassifier()\n",
        "rfc.fit(x,y)"
      ],
      "execution_count": null,
      "outputs": []
    },
    {
      "cell_type": "code",
      "metadata": {
        "id": "o2dzUxunNvXh"
      },
      "source": [
        "pred=rfc.predict(testing)"
      ],
      "execution_count": null,
      "outputs": []
    },
    {
      "cell_type": "code",
      "metadata": {
        "id": "-cxuHwzhUKM9"
      },
      "source": [
        "id=df1.iloc[:0].values"
      ],
      "execution_count": null,
      "outputs": []
    },
    {
      "cell_type": "code",
      "metadata": {
        "id": "geHAfgTCUCAI"
      },
      "source": [
        "output=pd.DataFrame({'id':id,'sentiment':pred})"
      ],
      "execution_count": null,
      "outputs": []
    },
    {
      "cell_type": "code",
      "metadata": {
        "id": "4LDR3F8qXE9r"
      },
      "source": [
        "pd.to_csv('output',index=False)"
      ],
      "execution_count": null,
      "outputs": []
    }
  ]
}